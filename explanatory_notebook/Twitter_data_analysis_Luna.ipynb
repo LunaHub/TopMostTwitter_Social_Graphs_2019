{
 "cells": [
  {
   "cell_type": "markdown",
   "metadata": {
    "toc": true
   },
   "source": [
    "<h1>Table of Contents<span class=\"tocSkip\"></span></h1>\n",
    "<div class=\"toc\"><ul class=\"toc-item\"><li><span><a href=\"#Load-and-preprocessing-of-data:\" data-toc-modified-id=\"Load-and-preprocessing-of-data:-1\">Load and preprocessing of data:</a></span></li><li><span><a href=\"#General-statistics:\" data-toc-modified-id=\"General-statistics:-2\">General statistics:</a></span></li></ul></div>"
   ]
  },
  {
   "cell_type": "markdown",
   "metadata": {},
   "source": [
    "## Load and preprocessing of data:"
   ]
  },
  {
   "cell_type": "code",
   "execution_count": 1,
   "metadata": {},
   "outputs": [],
   "source": [
    "import pandas as pd\n",
    "import numpy as np\n",
    "\n",
    "import seaborn as sns\n",
    "import matplotlib.pyplot as plt\n",
    "%matplotlib inline\n",
    "\n",
    "import datetime"
   ]
  },
  {
   "cell_type": "code",
   "execution_count": 45,
   "metadata": {},
   "outputs": [],
   "source": [
    "df = pd.read_csv('tweets.csv')"
   ]
  },
  {
   "cell_type": "code",
   "execution_count": 46,
   "metadata": {},
   "outputs": [
    {
     "data": {
      "text/html": [
       "<div>\n",
       "<style scoped>\n",
       "    .dataframe tbody tr th:only-of-type {\n",
       "        vertical-align: middle;\n",
       "    }\n",
       "\n",
       "    .dataframe tbody tr th {\n",
       "        vertical-align: top;\n",
       "    }\n",
       "\n",
       "    .dataframe thead th {\n",
       "        text-align: right;\n",
       "    }\n",
       "</style>\n",
       "<table border=\"1\" class=\"dataframe\">\n",
       "  <thead>\n",
       "    <tr style=\"text-align: right;\">\n",
       "      <th></th>\n",
       "      <th>author</th>\n",
       "      <th>content</th>\n",
       "      <th>country</th>\n",
       "      <th>date_time</th>\n",
       "      <th>id</th>\n",
       "      <th>language</th>\n",
       "      <th>latitude</th>\n",
       "      <th>longitude</th>\n",
       "      <th>number_of_likes</th>\n",
       "      <th>number_of_shares</th>\n",
       "    </tr>\n",
       "  </thead>\n",
       "  <tbody>\n",
       "    <tr>\n",
       "      <td>0</td>\n",
       "      <td>katyperry</td>\n",
       "      <td>Is history repeating itself...?#DONTNORMALIZEH...</td>\n",
       "      <td>NaN</td>\n",
       "      <td>12/01/2017 19:52</td>\n",
       "      <td>8.196330e+17</td>\n",
       "      <td>en</td>\n",
       "      <td>NaN</td>\n",
       "      <td>NaN</td>\n",
       "      <td>7900</td>\n",
       "      <td>3472</td>\n",
       "    </tr>\n",
       "    <tr>\n",
       "      <td>1</td>\n",
       "      <td>katyperry</td>\n",
       "      <td>@barackobama Thank you for your incredible gra...</td>\n",
       "      <td>NaN</td>\n",
       "      <td>11/01/2017 08:38</td>\n",
       "      <td>8.191010e+17</td>\n",
       "      <td>en</td>\n",
       "      <td>NaN</td>\n",
       "      <td>NaN</td>\n",
       "      <td>3689</td>\n",
       "      <td>1380</td>\n",
       "    </tr>\n",
       "    <tr>\n",
       "      <td>2</td>\n",
       "      <td>katyperry</td>\n",
       "      <td>Life goals. https://t.co/XIn1qKMKQl</td>\n",
       "      <td>NaN</td>\n",
       "      <td>11/01/2017 02:52</td>\n",
       "      <td>8.190140e+17</td>\n",
       "      <td>en</td>\n",
       "      <td>NaN</td>\n",
       "      <td>NaN</td>\n",
       "      <td>10341</td>\n",
       "      <td>2387</td>\n",
       "    </tr>\n",
       "    <tr>\n",
       "      <td>3</td>\n",
       "      <td>katyperry</td>\n",
       "      <td>Me right now 🙏🏻 https://t.co/gW55C1wrwd</td>\n",
       "      <td>NaN</td>\n",
       "      <td>11/01/2017 02:44</td>\n",
       "      <td>8.190120e+17</td>\n",
       "      <td>en</td>\n",
       "      <td>NaN</td>\n",
       "      <td>NaN</td>\n",
       "      <td>10774</td>\n",
       "      <td>2458</td>\n",
       "    </tr>\n",
       "    <tr>\n",
       "      <td>4</td>\n",
       "      <td>katyperry</td>\n",
       "      <td>SISTERS ARE DOIN' IT FOR THEMSELVES! 🙌🏻💪🏻❤️ ht...</td>\n",
       "      <td>NaN</td>\n",
       "      <td>10/01/2017 05:22</td>\n",
       "      <td>8.186890e+17</td>\n",
       "      <td>en</td>\n",
       "      <td>NaN</td>\n",
       "      <td>NaN</td>\n",
       "      <td>17620</td>\n",
       "      <td>4655</td>\n",
       "    </tr>\n",
       "  </tbody>\n",
       "</table>\n",
       "</div>"
      ],
      "text/plain": [
       "      author                                            content country  \\\n",
       "0  katyperry  Is history repeating itself...?#DONTNORMALIZEH...     NaN   \n",
       "1  katyperry  @barackobama Thank you for your incredible gra...     NaN   \n",
       "2  katyperry                Life goals. https://t.co/XIn1qKMKQl     NaN   \n",
       "3  katyperry            Me right now 🙏🏻 https://t.co/gW55C1wrwd     NaN   \n",
       "4  katyperry  SISTERS ARE DOIN' IT FOR THEMSELVES! 🙌🏻💪🏻❤️ ht...     NaN   \n",
       "\n",
       "          date_time            id language  latitude  longitude  \\\n",
       "0  12/01/2017 19:52  8.196330e+17       en       NaN        NaN   \n",
       "1  11/01/2017 08:38  8.191010e+17       en       NaN        NaN   \n",
       "2  11/01/2017 02:52  8.190140e+17       en       NaN        NaN   \n",
       "3  11/01/2017 02:44  8.190120e+17       en       NaN        NaN   \n",
       "4  10/01/2017 05:22  8.186890e+17       en       NaN        NaN   \n",
       "\n",
       "   number_of_likes  number_of_shares  \n",
       "0             7900              3472  \n",
       "1             3689              1380  \n",
       "2            10341              2387  \n",
       "3            10774              2458  \n",
       "4            17620              4655  "
      ]
     },
     "execution_count": 46,
     "metadata": {},
     "output_type": "execute_result"
    }
   ],
   "source": [
    "df.head()"
   ]
  },
  {
   "cell_type": "code",
   "execution_count": 47,
   "metadata": {},
   "outputs": [
    {
     "data": {
      "text/plain": [
       "52542"
      ]
     },
     "execution_count": 47,
     "metadata": {},
     "output_type": "execute_result"
    }
   ],
   "source": [
    "len(df)"
   ]
  },
  {
   "cell_type": "code",
   "execution_count": 48,
   "metadata": {},
   "outputs": [
    {
     "name": "stdout",
     "output_type": "stream",
     "text": [
      "01/01/2011 02:16\n",
      "31/12/2016 23:59\n"
     ]
    }
   ],
   "source": [
    "print(min(df.date_time))\n",
    "print(max(df.date_time))"
   ]
  },
  {
   "cell_type": "code",
   "execution_count": 49,
   "metadata": {},
   "outputs": [
    {
     "name": "stdout",
     "output_type": "stream",
     "text": [
      "['ArianaGrande' 'BarackObama' 'Cristiano' 'KimKardashian' 'TheEllenShow'\n",
      " 'Twitter' 'YouTube' 'britneyspears' 'cnnbrk' 'ddlovato' 'instagram'\n",
      " 'jimmyfallon' 'jtimberlake' 'justinbieber' 'katyperry' 'ladygaga'\n",
      " 'rihanna' 'selenagomez' 'shakira' 'taylorswift13']\n"
     ]
    }
   ],
   "source": [
    "Twitter_accounts = np.unique(df.author)\n",
    "print(Twitter_accounts)"
   ]
  },
  {
   "cell_type": "markdown",
   "metadata": {},
   "source": [
    "## General statistics:"
   ]
  },
  {
   "cell_type": "code",
   "execution_count": 50,
   "metadata": {},
   "outputs": [],
   "source": [
    "Tweet_span={}\n",
    "for account in Twitter_accounts:\n",
    "    span =[datetime.datetime.strptime(date[0:10],\"%d/%m/%Y\") for date in df[df.author == account].date_time]\n",
    "    Tweet_span[account] = (max(span)-min(span)).days"
   ]
  },
  {
   "cell_type": "code",
   "execution_count": 60,
   "metadata": {},
   "outputs": [
    {
     "data": {
      "image/png": "[encoded data removed]",
      "text/plain": [
       "<Figure size 720x360 with 1 Axes>"
      ]
     },
     "metadata": {
      "needs_background": "light"
     },
     "output_type": "display_data"
    }
   ],
   "source": [
    "# Time spend to post the tweets:\n",
    "plt.figure(figsize = [10,5])\n",
    "sorted_Tweet_span = dict(sorted(Tweet_span.items(), key=lambda kv: kv[1]))\n",
    "plt.barh(list(sorted_Tweet_span.keys()),sorted_Tweet_span.values());\n",
    "plt.xlabel('Number of days');\n",
    "plt.title('Number of days spent on posting');\n",
    "plt.savefig('../Number_tweet_days.png')"
   ]
  },
  {
   "cell_type": "code",
   "execution_count": 58,
   "metadata": {},
   "outputs": [
    {
     "data": {
      "image/png": "[encoded data removed]",
      "text/plain": [
       "<Figure size 720x360 with 1 Axes>"
      ]
     },
     "metadata": {
      "needs_background": "light"
     },
     "output_type": "display_data"
    }
   ],
   "source": [
    "# Number of tweets made by each - is the same for all\n",
    "plt.figure(figsize = [10,5])\n",
    "n_tweets = dict(zip(Twitter_accounts,[len(df[df.author == Twitter_accounts[i]]) for i in range(len(Twitter_accounts))]))\n",
    "sorted_n_tweets = dict(sorted(n_tweets.items(), key=lambda kv: kv[1]))\n",
    "plt.barh(list(sorted_n_tweets.keys()),sorted_n_tweets.values());\n",
    "plt.xlabel('Number of tweets');\n",
    "plt.savefig('../Number_of_tweets.png')"
   ]
  },
  {
   "cell_type": "code",
   "execution_count": 59,
   "metadata": {},
   "outputs": [
    {
     "data": {
      "image/png": "[encoded data removed]",
      "text/plain": [
       "<Figure size 720x360 with 1 Axes>"
      ]
     },
     "metadata": {
      "needs_background": "light"
     },
     "output_type": "display_data"
    }
   ],
   "source": [
    "# Distribution plot:\n",
    "plt.figure(figsize = [10,5])\n",
    "sns.kdeplot(df.number_of_likes, label=\"Likes\")\n",
    "sns.kdeplot(df.number_of_shares, label=\"Shares\")\n",
    "plt.xlabel('Tweets')\n",
    "plt.ylabel('Probability')\n",
    "plt.title('Distribution');\n",
    "plt.savefig('../Like_share_Distribution.png')"
   ]
  },
  {
   "cell_type": "code",
   "execution_count": null,
   "metadata": {},
   "outputs": [],
   "source": []
  },
  {
   "cell_type": "code",
   "execution_count": null,
   "metadata": {},
   "outputs": [],
   "source": []
  },
  {
   "cell_type": "code",
   "execution_count": null,
   "metadata": {},
   "outputs": [],
   "source": []
  },
  {
   "cell_type": "code",
   "execution_count": null,
   "metadata": {},
   "outputs": [],
   "source": []
  }
 ],
 "metadata": {
  "kernelspec": {
   "display_name": "Python 3",
   "language": "python",
   "name": "python3"
  },
  "language_info": {
   "codemirror_mode": {
    "name": "ipython",
    "version": 3
   },
   "file_extension": ".py",
   "mimetype": "text/x-python",
   "name": "python",
   "nbconvert_exporter": "python",
   "pygments_lexer": "ipython3",
   "version": "3.7.3"
  },
  "toc": {
   "base_numbering": 1,
   "nav_menu": {},
   "number_sections": false,
   "sideBar": true,
   "skip_h1_title": true,
   "title_cell": "Table of Contents",
   "title_sidebar": "Contents",
   "toc_cell": true,
   "toc_position": {},
   "toc_section_display": true,
   "toc_window_display": false
  }
 },
 "nbformat": 4,
 "nbformat_minor": 2
}
